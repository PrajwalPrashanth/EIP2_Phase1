{
  "nbformat": 4,
  "nbformat_minor": 0,
  "metadata": {
    "colab": {
      "name": "MnistCNN.ipynb",
      "version": "0.3.2",
      "provenance": [],
      "collapsed_sections": [],
      "include_colab_link": true
    },
    "kernelspec": {
      "name": "python3",
      "display_name": "Python 3"
    },
    "accelerator": "GPU"
  },
  "cells": [
    {
      "cell_type": "markdown",
      "metadata": {
        "id": "view-in-github",
        "colab_type": "text"
      },
      "source": [
        "[View in Colaboratory](https://colab.research.google.com/github/PrajwalPrashanth/EIP2_Phase1/blob/master/Session%203/Assignments/3A/MnistCNN.ipynb)"
      ]
    },
    {
      "metadata": {
        "id": "aNyZv-Ec52ot",
        "colab_type": "text"
      },
      "cell_type": "markdown",
      "source": [
        "# **Import Libraries and modules**"
      ]
    },
    {
      "metadata": {
        "id": "3m3w1Cw49Zkt",
        "colab_type": "code",
        "colab": {
          "base_uri": "https://localhost:8080/",
          "height": 36
        },
        "outputId": "0cb017e9-e876-452c-e657-61953c6e7a56"
      },
      "cell_type": "code",
      "source": [
        "# https://keras.io/\n",
        "!pip install -q keras\n",
        "import keras"
      ],
      "execution_count": 1,
      "outputs": [
        {
          "output_type": "stream",
          "text": [
            "Using TensorFlow backend.\n"
          ],
          "name": "stderr"
        }
      ]
    },
    {
      "metadata": {
        "id": "Eso6UHE080D4",
        "colab_type": "code",
        "colab": {}
      },
      "cell_type": "code",
      "source": [
        "import numpy as np\n",
        "\n",
        "from keras.models import Sequential\n",
        "from keras.layers import Dense, Dropout, Activation, Flatten, Add, BatchNormalization\n",
        "from keras.layers import Convolution2D, MaxPooling2D, SeparableConv2D\n",
        "from keras.utils import np_utils\n",
        "\n",
        "from keras.datasets import mnist"
      ],
      "execution_count": 0,
      "outputs": []
    },
    {
      "metadata": {
        "id": "zByEi95J86RD",
        "colab_type": "text"
      },
      "cell_type": "markdown",
      "source": [
        "### Load pre-shuffled MNIST data into train and test sets"
      ]
    },
    {
      "metadata": {
        "id": "7eRM0QWN83PV",
        "colab_type": "code",
        "colab": {
          "base_uri": "https://localhost:8080/",
          "height": 54
        },
        "outputId": "1353cbad-42a3-4043-ee9e-a1bc7791c0d4"
      },
      "cell_type": "code",
      "source": [
        "(X_train, y_train), (X_test, y_test) = mnist.load_data()"
      ],
      "execution_count": 3,
      "outputs": [
        {
          "output_type": "stream",
          "text": [
            "Downloading data from https://s3.amazonaws.com/img-datasets/mnist.npz\n",
            "11493376/11490434 [==============================] - 1s 0us/step\n"
          ],
          "name": "stdout"
        }
      ]
    },
    {
      "metadata": {
        "id": "4a4Be72j8-ZC",
        "colab_type": "code",
        "colab": {
          "base_uri": "https://localhost:8080/",
          "height": 302
        },
        "outputId": "6f77c872-66ea-427a-ae67-dd9263e24473"
      },
      "cell_type": "code",
      "source": [
        "print (X_train.shape)\n",
        "from matplotlib import pyplot as plt\n",
        "%matplotlib inline\n",
        "plt.imshow(X_train[6])"
      ],
      "execution_count": 4,
      "outputs": [
        {
          "output_type": "stream",
          "text": [
            "(60000, 28, 28)\n"
          ],
          "name": "stdout"
        },
        {
          "output_type": "execute_result",
          "data": {
            "text/plain": [
              "<matplotlib.image.AxesImage at 0x7f331a2ddef0>"
            ]
          },
          "metadata": {
            "tags": []
          },
          "execution_count": 4
        },
        {
          "output_type": "display_data",
          "data": {
            "image/png": "[encoded data removed]",
            "text/plain": [
              "<matplotlib.figure.Figure at 0x7f337b1aaeb8>"
            ]
          },
          "metadata": {
            "tags": []
          }
        }
      ]
    },
    {
      "metadata": {
        "id": "dkmprriw9AnZ",
        "colab_type": "code",
        "colab": {}
      },
      "cell_type": "code",
      "source": [
        "X_train = X_train.reshape(X_train.shape[0], 28, 28,1)\n",
        "X_test = X_test.reshape(X_test.shape[0], 28, 28,1)"
      ],
      "execution_count": 0,
      "outputs": []
    },
    {
      "metadata": {
        "id": "X2m4YS4E9CRh",
        "colab_type": "code",
        "colab": {}
      },
      "cell_type": "code",
      "source": [
        "X_train = X_train.astype('float32')\n",
        "X_test = X_test.astype('float32')\n",
        "X_train /= 255\n",
        "X_test /= 255"
      ],
      "execution_count": 0,
      "outputs": []
    },
    {
      "metadata": {
        "id": "0Mn0vAYD9DvB",
        "colab_type": "code",
        "colab": {
          "base_uri": "https://localhost:8080/",
          "height": 36
        },
        "outputId": "5ffa1608-9a58-4ca2-83fb-ff9b891ccec2"
      },
      "cell_type": "code",
      "source": [
        "y_train[:15]"
      ],
      "execution_count": 7,
      "outputs": [
        {
          "output_type": "execute_result",
          "data": {
            "text/plain": [
              "array([5, 0, 4, 1, 9, 2, 1, 3, 1, 4, 3, 5, 3, 6, 1], dtype=uint8)"
            ]
          },
          "metadata": {
            "tags": []
          },
          "execution_count": 7
        }
      ]
    },
    {
      "metadata": {
        "id": "ZG8JiXR39FHC",
        "colab_type": "code",
        "colab": {}
      },
      "cell_type": "code",
      "source": [
        "# Convert 1-dimensional class arrays to 10-dimensional class matrices\n",
        "Y_train = np_utils.to_categorical(y_train, 10)\n",
        "Y_test = np_utils.to_categorical(y_test, 10)"
      ],
      "execution_count": 0,
      "outputs": []
    },
    {
      "metadata": {
        "id": "fYlFRvKS9HMB",
        "colab_type": "code",
        "colab": {
          "base_uri": "https://localhost:8080/",
          "height": 54
        },
        "outputId": "d607c452-eeaa-42c4-941e-898f5f50997b"
      },
      "cell_type": "code",
      "source": [
        "Y_train[:2]\n"
      ],
      "execution_count": 9,
      "outputs": [
        {
          "output_type": "execute_result",
          "data": {
            "text/plain": [
              "array([[0., 0., 0., 0., 0., 1., 0., 0., 0., 0.],\n",
              "       [1., 0., 0., 0., 0., 0., 0., 0., 0., 0.]], dtype=float32)"
            ]
          },
          "metadata": {
            "tags": []
          },
          "execution_count": 9
        }
      ]
    },
    {
      "metadata": {
        "id": "osKqT73Q9JJB",
        "colab_type": "code",
        "colab": {
          "base_uri": "https://localhost:8080/",
          "height": 111
        },
        "outputId": "12d0a401-1e7c-4bb1-cdad-f2736c05c4b9"
      },
      "cell_type": "code",
      "source": [
        "from keras.layers import Activation\n",
        "model = Sequential()\n",
        "\n",
        " \n",
        "model.add(Convolution2D(16, 3, 3, activation='relu', input_shape=(28,28,1)))\n",
        "model.add(SeparableConv2D(filters=32, kernel_size=(3,3), activation='relu'))\n",
        "model.add(SeparableConv2D(filters=64, kernel_size=(3,3), activation='relu'))\n",
        "model.add(Convolution2D(32, 1, 1, activation='relu'))\n",
        "model.add(SeparableConv2D(filters=32, kernel_size=(13,13), activation='relu'))\n",
        "model.add(Dropout(0.1))\n",
        "model.add(SeparableConv2D(filters=10, kernel_size=(10,10), activation='relu'))\n",
        "model.add(Flatten())\n",
        "model.add(Activation('softmax'))"
      ],
      "execution_count": 89,
      "outputs": [
        {
          "output_type": "stream",
          "text": [
            "/usr/local/lib/python3.6/dist-packages/ipykernel_launcher.py:5: UserWarning: Update your `Conv2D` call to the Keras 2 API: `Conv2D(16, (3, 3), activation=\"relu\", input_shape=(28, 28, 1...)`\n",
            "  \"\"\"\n",
            "/usr/local/lib/python3.6/dist-packages/ipykernel_launcher.py:8: UserWarning: Update your `Conv2D` call to the Keras 2 API: `Conv2D(32, (1, 1), activation=\"relu\")`\n",
            "  \n"
          ],
          "name": "stderr"
        }
      ]
    },
    {
      "metadata": {
        "id": "TzdAYg1k9K7Z",
        "colab_type": "code",
        "colab": {
          "base_uri": "https://localhost:8080/",
          "height": 481
        },
        "outputId": "d3254f91-3653-405b-ff69-37faf825de0d"
      },
      "cell_type": "code",
      "source": [
        "model.summary()"
      ],
      "execution_count": 90,
      "outputs": [
        {
          "output_type": "stream",
          "text": [
            "_________________________________________________________________\n",
            "Layer (type)                 Output Shape              Param #   \n",
            "=================================================================\n",
            "conv2d_35 (Conv2D)           (None, 26, 26, 16)        160       \n",
            "_________________________________________________________________\n",
            "separable_conv2d_82 (Separab (None, 24, 24, 32)        688       \n",
            "_________________________________________________________________\n",
            "separable_conv2d_83 (Separab (None, 22, 22, 64)        2400      \n",
            "_________________________________________________________________\n",
            "conv2d_36 (Conv2D)           (None, 22, 22, 32)        2080      \n",
            "_________________________________________________________________\n",
            "separable_conv2d_84 (Separab (None, 10, 10, 32)        6464      \n",
            "_________________________________________________________________\n",
            "dropout_22 (Dropout)         (None, 10, 10, 32)        0         \n",
            "_________________________________________________________________\n",
            "separable_conv2d_85 (Separab (None, 1, 1, 10)          3530      \n",
            "_________________________________________________________________\n",
            "flatten_18 (Flatten)         (None, 10)                0         \n",
            "_________________________________________________________________\n",
            "activation_18 (Activation)   (None, 10)                0         \n",
            "=================================================================\n",
            "Total params: 15,322\n",
            "Trainable params: 15,322\n",
            "Non-trainable params: 0\n",
            "_________________________________________________________________\n"
          ],
          "name": "stdout"
        }
      ]
    },
    {
      "metadata": {
        "id": "Zp6SuGrL9M3h",
        "colab_type": "code",
        "colab": {}
      },
      "cell_type": "code",
      "source": [
        "\n",
        "model.compile(loss='categorical_crossentropy',\n",
        "             optimizer='adam',\n",
        "             metrics=['accuracy'])"
      ],
      "execution_count": 0,
      "outputs": []
    },
    {
      "metadata": {
        "id": "4xWoKhPY9Of5",
        "colab_type": "code",
        "colab": {
          "base_uri": "https://localhost:8080/",
          "height": 240
        },
        "outputId": "88fccb8e-9217-4d1a-91bc-fe23e787ff48"
      },
      "cell_type": "code",
      "source": [
        "model.fit(X_train, Y_train, batch_size=32, epochs=5, verbose=1, validation_data=(X_test, Y_test))"
      ],
      "execution_count": 92,
      "outputs": [
        {
          "output_type": "stream",
          "text": [
            "Train on 60000 samples, validate on 10000 samples\n",
            "Epoch 1/5\n",
            "60000/60000 [==============================] - 39s 648us/step - loss: 0.3244 - acc: 0.8969 - val_loss: 0.0915 - val_acc: 0.9708\n",
            "Epoch 2/5\n",
            "60000/60000 [==============================] - 37s 610us/step - loss: 0.0923 - acc: 0.9722 - val_loss: 0.0646 - val_acc: 0.9793\n",
            "Epoch 3/5\n",
            "60000/60000 [==============================] - 37s 611us/step - loss: 0.0679 - acc: 0.9793 - val_loss: 0.0495 - val_acc: 0.9840\n",
            "Epoch 4/5\n",
            "60000/60000 [==============================] - 37s 610us/step - loss: 0.0564 - acc: 0.9826 - val_loss: 0.0424 - val_acc: 0.9871\n",
            "Epoch 5/5\n",
            "60000/60000 [==============================] - 37s 611us/step - loss: 0.0473 - acc: 0.9851 - val_loss: 0.0584 - val_acc: 0.9821\n"
          ],
          "name": "stdout"
        },
        {
          "output_type": "execute_result",
          "data": {
            "text/plain": [
              "<keras.callbacks.History at 0x7f32f80ae630>"
            ]
          },
          "metadata": {
            "tags": []
          },
          "execution_count": 92
        }
      ]
    },
    {
      "metadata": {
        "id": "Li-7N0G0KqZ-",
        "colab_type": "code",
        "colab": {
          "base_uri": "https://localhost:8080/",
          "height": 240
        },
        "outputId": "1a12388e-bfd4-4cae-e056-247db1fc1f72"
      },
      "cell_type": "code",
      "source": [
        "model.fit(X_train, Y_train, batch_size=32, epochs=5, verbose=1, validation_data=(X_test, Y_test))"
      ],
      "execution_count": 93,
      "outputs": [
        {
          "output_type": "stream",
          "text": [
            "Train on 60000 samples, validate on 10000 samples\n",
            "Epoch 1/5\n",
            "60000/60000 [==============================] - 37s 613us/step - loss: 0.0421 - acc: 0.9872 - val_loss: 0.0336 - val_acc: 0.9904\n",
            "Epoch 2/5\n",
            "60000/60000 [==============================] - 37s 610us/step - loss: 0.0385 - acc: 0.9877 - val_loss: 0.0332 - val_acc: 0.9897\n",
            "Epoch 3/5\n",
            "60000/60000 [==============================] - 37s 612us/step - loss: 0.0351 - acc: 0.9891 - val_loss: 0.0268 - val_acc: 0.9908\n",
            "Epoch 4/5\n",
            "60000/60000 [==============================] - 37s 610us/step - loss: 0.0321 - acc: 0.9898 - val_loss: 0.0302 - val_acc: 0.9898\n",
            "Epoch 5/5\n",
            "60000/60000 [==============================] - 37s 612us/step - loss: 0.0308 - acc: 0.9900 - val_loss: 0.0320 - val_acc: 0.9891\n"
          ],
          "name": "stdout"
        },
        {
          "output_type": "execute_result",
          "data": {
            "text/plain": [
              "<keras.callbacks.History at 0x7f32f8055a20>"
            ]
          },
          "metadata": {
            "tags": []
          },
          "execution_count": 93
        }
      ]
    },
    {
      "metadata": {
        "id": "JxeW2DJFqFMN",
        "colab_type": "code",
        "colab": {
          "base_uri": "https://localhost:8080/",
          "height": 240
        },
        "outputId": "c4c2d239-742a-4d26-93c1-47cf8f58dd07"
      },
      "cell_type": "code",
      "source": [
        "model.fit(X_train, Y_train, batch_size=64, epochs=5, verbose=1, validation_data=(X_test, Y_test))"
      ],
      "execution_count": 94,
      "outputs": [
        {
          "output_type": "stream",
          "text": [
            "Train on 60000 samples, validate on 10000 samples\n",
            "Epoch 1/5\n",
            "60000/60000 [==============================] - 27s 448us/step - loss: 0.0200 - acc: 0.9940 - val_loss: 0.0244 - val_acc: 0.9921\n",
            "Epoch 2/5\n",
            "60000/60000 [==============================] - 27s 446us/step - loss: 0.0211 - acc: 0.9932 - val_loss: 0.0277 - val_acc: 0.9904\n",
            "Epoch 3/5\n",
            "60000/60000 [==============================] - 27s 446us/step - loss: 0.0200 - acc: 0.9937 - val_loss: 0.0287 - val_acc: 0.9909\n",
            "Epoch 4/5\n",
            "60000/60000 [==============================] - 27s 447us/step - loss: 0.0202 - acc: 0.9935 - val_loss: 0.0321 - val_acc: 0.9911\n",
            "Epoch 5/5\n",
            "60000/60000 [==============================] - 27s 445us/step - loss: 0.0193 - acc: 0.9935 - val_loss: 0.0367 - val_acc: 0.9898\n"
          ],
          "name": "stdout"
        },
        {
          "output_type": "execute_result",
          "data": {
            "text/plain": [
              "<keras.callbacks.History at 0x7f32f89ebeb8>"
            ]
          },
          "metadata": {
            "tags": []
          },
          "execution_count": 94
        }
      ]
    },
    {
      "metadata": {
        "id": "bWVGe5p1trY7",
        "colab_type": "code",
        "colab": {
          "base_uri": "https://localhost:8080/",
          "height": 240
        },
        "outputId": "102ba974-90d4-4147-bdf6-6ffc0556cd4e"
      },
      "cell_type": "code",
      "source": [
        "model.fit(X_train, Y_train, batch_size=128, epochs=5, verbose=1, validation_data=(X_test, Y_test))"
      ],
      "execution_count": 95,
      "outputs": [
        {
          "output_type": "stream",
          "text": [
            "Train on 60000 samples, validate on 10000 samples\n",
            "Epoch 1/5\n",
            "60000/60000 [==============================] - 22s 361us/step - loss: 0.0116 - acc: 0.9962 - val_loss: 0.0247 - val_acc: 0.9926\n",
            "Epoch 2/5\n",
            "60000/60000 [==============================] - 22s 358us/step - loss: 0.0106 - acc: 0.9964 - val_loss: 0.0274 - val_acc: 0.9926\n",
            "Epoch 3/5\n",
            "60000/60000 [==============================] - 21s 358us/step - loss: 0.0114 - acc: 0.9963 - val_loss: 0.0265 - val_acc: 0.9920\n",
            "Epoch 4/5\n",
            "60000/60000 [==============================] - 21s 358us/step - loss: 0.0114 - acc: 0.9963 - val_loss: 0.0286 - val_acc: 0.9928\n",
            "Epoch 5/5\n",
            "60000/60000 [==============================] - 21s 358us/step - loss: 0.0110 - acc: 0.9965 - val_loss: 0.0267 - val_acc: 0.9925\n"
          ],
          "name": "stdout"
        },
        {
          "output_type": "execute_result",
          "data": {
            "text/plain": [
              "<keras.callbacks.History at 0x7f32f8055860>"
            ]
          },
          "metadata": {
            "tags": []
          },
          "execution_count": 95
        }
      ]
    },
    {
      "metadata": {
        "id": "XaVUaT47YU1t",
        "colab_type": "code",
        "colab": {}
      },
      "cell_type": "code",
      "source": [
        "score = model.evaluate(X_test, Y_test, verbose=0)"
      ],
      "execution_count": 0,
      "outputs": []
    },
    {
      "metadata": {
        "id": "mkX8JMv79q9r",
        "colab_type": "code",
        "colab": {
          "base_uri": "https://localhost:8080/",
          "height": 36
        },
        "outputId": "da8ac564-6d23-4c4f-a8c3-48ae09627cfa"
      },
      "cell_type": "code",
      "source": [
        "print(score) # parameters: 15,322\n",
        "             # epochs: 20 (bs_32:10,bs_64:5,bs_128:5)"
      ],
      "execution_count": 97,
      "outputs": [
        {
          "output_type": "stream",
          "text": [
            "[0.026707178564036076, 0.9925]\n"
          ],
          "name": "stdout"
        }
      ]
    },
    {
      "metadata": {
        "id": "ETHtcSaQ0GEy",
        "colab_type": "code",
        "colab": {}
      },
      "cell_type": "code",
      "source": [
        "model.save_weights('model_weights.h5')"
      ],
      "execution_count": 0,
      "outputs": []
    },
    {
      "metadata": {
        "id": "T5RTiw8U0JbJ",
        "colab_type": "code",
        "colab": {}
      },
      "cell_type": "code",
      "source": [
        "with open('model_architecture.json', 'w') as f:\n",
        "    f.write(model.to_json())"
      ],
      "execution_count": 0,
      "outputs": []
    },
    {
      "metadata": {
        "id": "YlyE7gxM0e37",
        "colab_type": "code",
        "colab": {}
      },
      "cell_type": "code",
      "source": [
        "model.save('MnistCNN.h5')"
      ],
      "execution_count": 0,
      "outputs": []
    },
    {
      "metadata": {
        "id": "gdvTtS6-04Ji",
        "colab_type": "code",
        "colab": {}
      },
      "cell_type": "code",
      "source": [
        "from google.colab import files\n"
      ],
      "execution_count": 0,
      "outputs": []
    },
    {
      "metadata": {
        "id": "fxOyjKSf2L_n",
        "colab_type": "code",
        "colab": {
          "base_uri": "https://localhost:8080/",
          "height": 54
        },
        "outputId": "3c2e5c97-6cdf-462c-e5d4-dee2f7d5cc93"
      },
      "cell_type": "code",
      "source": [
        "!ls"
      ],
      "execution_count": 126,
      "outputs": [
        {
          "output_type": "stream",
          "text": [
            "MnistCNN.h5\t\t model_weights.h5  sample_data\n",
            "model_architecture.json  my_model.h5\n"
          ],
          "name": "stdout"
        }
      ]
    },
    {
      "metadata": {
        "id": "mK6Et1lO11J9",
        "colab_type": "code",
        "colab": {}
      },
      "cell_type": "code",
      "source": [
        "files.download('model_weights.h5')"
      ],
      "execution_count": 0,
      "outputs": []
    },
    {
      "metadata": {
        "id": "xViF1ZNW4sgH",
        "colab_type": "code",
        "colab": {}
      },
      "cell_type": "code",
      "source": [
        "model.save('MnistCNN.h5')"
      ],
      "execution_count": 0,
      "outputs": []
    },
    {
      "metadata": {
        "id": "PLGKyn-C54LY",
        "colab_type": "code",
        "colab": {}
      },
      "cell_type": "code",
      "source": [
        "!cd /content/models"
      ],
      "execution_count": 0,
      "outputs": []
    },
    {
      "metadata": {
        "id": "eIw7BV6W4yUH",
        "colab_type": "code",
        "colab": {
          "base_uri": "https://localhost:8080/",
          "height": 36
        },
        "outputId": "44f776f1-63fb-4617-882a-5298a639a63a"
      },
      "cell_type": "code",
      "source": [
        "!pwd"
      ],
      "execution_count": 155,
      "outputs": [
        {
          "output_type": "stream",
          "text": [
            "/content\n"
          ],
          "name": "stdout"
        }
      ]
    },
    {
      "metadata": {
        "id": "OCWoJkwE9suh",
        "colab_type": "code",
        "colab": {}
      },
      "cell_type": "code",
      "source": [
        "y_pred = model.predict(X_test)"
      ],
      "execution_count": 0,
      "outputs": []
    },
    {
      "metadata": {
        "id": "Ym7iCFBm9uBs",
        "colab_type": "code",
        "colab": {
          "base_uri": "https://localhost:8080/",
          "height": 370
        },
        "outputId": "8f9690d8-4876-481d-912f-fa07cd49bdc0"
      },
      "cell_type": "code",
      "source": [
        "print(y_pred[:9])\n",
        "print(y_test[:9])"
      ],
      "execution_count": 99,
      "outputs": [
        {
          "output_type": "stream",
          "text": [
            "[[3.1002839e-12 3.1002839e-12 3.6420753e-09 3.6799469e-07 3.1002839e-12\n",
            "  3.1002839e-12 3.1002839e-12 9.9999964e-01 3.1002839e-12 1.6665361e-08]\n",
            " [1.4377885e-10 1.9598075e-10 9.9999976e-01 1.1352099e-11 1.4838587e-10\n",
            "  1.5526561e-09 8.5141963e-11 1.1352099e-11 2.0773389e-07 1.8188206e-11]\n",
            " [6.1821964e-07 9.9986744e-01 6.1821964e-07 6.1821964e-07 9.1349088e-05\n",
            "  6.1821964e-07 6.1821964e-07 3.4386474e-05 3.1881650e-06 6.1821964e-07]\n",
            " [9.9999499e-01 2.6719449e-10 6.6732024e-09 2.6719449e-10 2.6719449e-10\n",
            "  1.0615119e-09 4.9944551e-06 2.4881881e-08 2.6719449e-10 2.6719449e-10]\n",
            " [5.6566613e-11 8.8931412e-10 5.6566613e-11 5.6566613e-11 9.9999988e-01\n",
            "  5.6566613e-11 5.6566613e-11 5.6566613e-11 5.6566613e-11 1.0038871e-07]\n",
            " [5.8863424e-08 9.9998534e-01 1.0876460e-07 5.8863424e-08 4.7168724e-06\n",
            "  5.8863424e-08 5.8863424e-08 9.2301416e-06 4.6910037e-07 5.8863424e-08]\n",
            " [3.6094389e-10 1.3863179e-07 3.6094389e-10 3.6094389e-10 9.9999952e-01\n",
            "  3.9220730e-08 3.6094389e-10 3.6094389e-10 6.1577651e-08 2.6168394e-07]\n",
            " [1.1306871e-11 1.1306871e-11 1.1306871e-11 1.2742905e-11 2.2884510e-07\n",
            "  4.8501652e-09 1.1306871e-11 1.1306871e-11 2.1474359e-11 9.9999976e-01]\n",
            " [1.4452663e-10 2.2965954e-11 3.3709526e-08 2.2965954e-11 2.2965954e-11\n",
            "  1.2022743e-03 9.9879253e-01 2.2965954e-11 5.1450970e-06 5.3306728e-09]]\n",
            "[7 2 1 0 4 1 4 9 5]\n"
          ],
          "name": "stdout"
        }
      ]
    },
    {
      "metadata": {
        "id": "CT--y98_dr2T",
        "colab_type": "code",
        "colab": {}
      },
      "cell_type": "code",
      "source": [
        "layer_dict = dict([(layer.name, layer) for layer in model.layers])"
      ],
      "execution_count": 0,
      "outputs": []
    },
    {
      "metadata": {
        "id": "2GY4Upv4dsUR",
        "colab_type": "code",
        "colab": {
          "base_uri": "https://localhost:8080/",
          "height": 340
        },
        "outputId": "7d5523a2-d510-468b-f876-3500711390b4"
      },
      "cell_type": "code",
      "source": [
        "import numpy as np\n",
        "from matplotlib import pyplot as plt\n",
        "from keras import backend as K\n",
        "%matplotlib inline\n",
        "# util function to convert a tensor into a valid image\n",
        "def deprocess_image(x):\n",
        "    # normalize tensor: center on 0., ensure std is 0.1\n",
        "    x -= x.mean()\n",
        "    x /= (x.std() + 1e-5)\n",
        "    x *= 0.1\n",
        "\n",
        "    # clip to [0, 1]\n",
        "    x += 0.5\n",
        "    x = np.clip(x, 0, 1)\n",
        "\n",
        "    # convert to RGB array\n",
        "    x *= 255\n",
        "    #x = x.transpose((1, 2, 0))\n",
        "    x = np.clip(x, 0, 255).astype('uint8')\n",
        "    return x\n",
        "\n",
        "def vis_img_in_filter(img = np.array(X_train[2]).reshape((1, 28, 28, 1)).astype(np.float64), \n",
        "                      layer_name = 'conv2d_14'):\n",
        "    layer_output = layer_dict[layer_name].output\n",
        "    img_ascs = list()\n",
        "    for filter_index in range(layer_output.shape[3]):\n",
        "        # build a loss function that maximizes the activation\n",
        "        # of the nth filter of the layer considered\n",
        "        loss = K.mean(layer_output[:, :, :, filter_index])\n",
        "\n",
        "        # compute the gradient of the input picture wrt this loss\n",
        "        grads = K.gradients(loss, model.input)[0]\n",
        "\n",
        "        # normalization trick: we normalize the gradient\n",
        "        grads /= (K.sqrt(K.mean(K.square(grads))) + 1e-5)\n",
        "\n",
        "        # this function returns the loss and grads given the input picture\n",
        "        iterate = K.function([model.input], [loss, grads])\n",
        "\n",
        "        # step size for gradient ascent\n",
        "        step = 5.\n",
        "\n",
        "        img_asc = np.array(img)\n",
        "        # run gradient ascent for 20 steps\n",
        "        for i in range(20):\n",
        "            loss_value, grads_value = iterate([img_asc])\n",
        "            img_asc += grads_value * step\n",
        "\n",
        "        img_asc = img_asc[0]\n",
        "        img_ascs.append(deprocess_image(img_asc).reshape((28, 28)))\n",
        "        \n",
        "    if layer_output.shape[3] >= 35:\n",
        "        plot_x, plot_y = 6, 6\n",
        "    elif layer_output.shape[3] >= 23:\n",
        "        plot_x, plot_y = 4, 6\n",
        "    elif layer_output.shape[3] >= 11:\n",
        "        plot_x, plot_y = 2, 6\n",
        "    else:\n",
        "        plot_x, plot_y = 1, 2\n",
        "    fig, ax = plt.subplots(plot_x, plot_y, figsize = (12, 12))\n",
        "    ax[0, 0].imshow(img.reshape((28, 28)), cmap = 'gray')\n",
        "    ax[0, 0].set_title('Input image')\n",
        "    fig.suptitle('Input image and %s filters' % (layer_name,))\n",
        "    fig.tight_layout(pad = 0.3, rect = [0, 0, 0.9, 0.9])\n",
        "    for (x, y) in [(i, j) for i in range(plot_x) for j in range(plot_y)]:\n",
        "        if x == 0 and y == 0:\n",
        "            continue\n",
        "        ax[x, y].imshow(img_ascs[x * plot_y + y - 1], cmap = 'gray')\n",
        "        ax[x, y].set_title('filter %d' % (x * plot_y + y - 1))\n",
        "\n",
        "vis_img_in_filter()"
      ],
      "execution_count": 83,
      "outputs": [
        {
          "output_type": "error",
          "ename": "KeyError",
          "evalue": "ignored",
          "traceback": [
            "\u001b[0;31m---------------------------------------------------------------------------\u001b[0m",
            "\u001b[0;31mKeyError\u001b[0m                                  Traceback (most recent call last)",
            "\u001b[0;32m<ipython-input-83-19229f66b51a>\u001b[0m in \u001b[0;36m<module>\u001b[0;34m()\u001b[0m\n\u001b[1;32m     69\u001b[0m         \u001b[0max\u001b[0m\u001b[0;34m[\u001b[0m\u001b[0mx\u001b[0m\u001b[0;34m,\u001b[0m \u001b[0my\u001b[0m\u001b[0;34m]\u001b[0m\u001b[0;34m.\u001b[0m\u001b[0mset_title\u001b[0m\u001b[0;34m(\u001b[0m\u001b[0;34m'filter %d'\u001b[0m \u001b[0;34m%\u001b[0m \u001b[0;34m(\u001b[0m\u001b[0mx\u001b[0m \u001b[0;34m*\u001b[0m \u001b[0mplot_y\u001b[0m \u001b[0;34m+\u001b[0m \u001b[0my\u001b[0m \u001b[0;34m-\u001b[0m \u001b[0;36m1\u001b[0m\u001b[0;34m)\u001b[0m\u001b[0;34m)\u001b[0m\u001b[0;34m\u001b[0m\u001b[0m\n\u001b[1;32m     70\u001b[0m \u001b[0;34m\u001b[0m\u001b[0m\n\u001b[0;32m---> 71\u001b[0;31m \u001b[0mvis_img_in_filter\u001b[0m\u001b[0;34m(\u001b[0m\u001b[0;34m)\u001b[0m\u001b[0;34m\u001b[0m\u001b[0m\n\u001b[0m",
            "\u001b[0;32m<ipython-input-83-19229f66b51a>\u001b[0m in \u001b[0;36mvis_img_in_filter\u001b[0;34m(img, layer_name)\u001b[0m\n\u001b[1;32m     22\u001b[0m def vis_img_in_filter(img = np.array(X_train[2]).reshape((1, 28, 28, 1)).astype(np.float64), \n\u001b[1;32m     23\u001b[0m                       layer_name = 'conv2d_14'):\n\u001b[0;32m---> 24\u001b[0;31m     \u001b[0mlayer_output\u001b[0m \u001b[0;34m=\u001b[0m \u001b[0mlayer_dict\u001b[0m\u001b[0;34m[\u001b[0m\u001b[0mlayer_name\u001b[0m\u001b[0;34m]\u001b[0m\u001b[0;34m.\u001b[0m\u001b[0moutput\u001b[0m\u001b[0;34m\u001b[0m\u001b[0m\n\u001b[0m\u001b[1;32m     25\u001b[0m     \u001b[0mimg_ascs\u001b[0m \u001b[0;34m=\u001b[0m \u001b[0mlist\u001b[0m\u001b[0;34m(\u001b[0m\u001b[0;34m)\u001b[0m\u001b[0;34m\u001b[0m\u001b[0m\n\u001b[1;32m     26\u001b[0m     \u001b[0;32mfor\u001b[0m \u001b[0mfilter_index\u001b[0m \u001b[0;32min\u001b[0m \u001b[0mrange\u001b[0m\u001b[0;34m(\u001b[0m\u001b[0mlayer_output\u001b[0m\u001b[0;34m.\u001b[0m\u001b[0mshape\u001b[0m\u001b[0;34m[\u001b[0m\u001b[0;36m3\u001b[0m\u001b[0;34m]\u001b[0m\u001b[0;34m)\u001b[0m\u001b[0;34m:\u001b[0m\u001b[0;34m\u001b[0m\u001b[0m\n",
            "\u001b[0;31mKeyError\u001b[0m: 'conv2d_14'"
          ]
        }
      ]
    },
    {
      "metadata": {
        "id": "9tvptcn8dxvp",
        "colab_type": "code",
        "colab": {
          "base_uri": "https://localhost:8080/",
          "height": 36
        },
        "outputId": "e0cfff0b-4f6c-4fd7-f742-c6c23fc2c49a"
      },
      "cell_type": "code",
      "source": [
        "y_train.shape"
      ],
      "execution_count": 20,
      "outputs": [
        {
          "output_type": "execute_result",
          "data": {
            "text/plain": [
              "(60000,)"
            ]
          },
          "metadata": {
            "tags": []
          },
          "execution_count": 20
        }
      ]
    },
    {
      "metadata": {
        "id": "xkNZ2JYac9AO",
        "colab_type": "code",
        "colab": {}
      },
      "cell_type": "code",
      "source": [
        "[0.07641638516254279, 0.9829] default\n",
        "[0.05600948565435883, 0.9864] batch 32 epoch 10 layers 32,64,10,10"
      ],
      "execution_count": 0,
      "outputs": []
    },
    {
      "metadata": {
        "id": "N43aLU2lhjDv",
        "colab_type": "code",
        "colab": {}
      },
      "cell_type": "code",
      "source": [
        "30 ep\n",
        "loss: 0.0373 - acc: 0.9883 - val_loss: 0.0372 - val_acc: 0.9884\n",
        "        \n",
        "        model.add(Convolution2D(32, 3, 3, activation='relu', input_shape=(28,28,1)))\n",
        "model.add(SeparableConv2D(filters=64, kernel_size=(3,3), activation='relu'))\n",
        "model.add(Dropout(0.5))\n",
        "model.add(SeparableConv2D(filters=32, kernel_size=(3,3), activation='relu'))\n",
        "model.add(SeparableConv2D(filters=16, kernel_size=(3,3), activation='relu'))\n",
        "model.add(Convolution2D(10, 1, 1, activation='relu'))\n",
        "model.add(SeparableConv2D(filters=10, kernel_size=(10,10), activation='relu'))\n",
        "model.add(SeparableConv2D(filters=10, kernel_size=(11,11), activation='relu'))\n",
        "model.add(Flatten())\n",
        "model.add(Activation('softmax'))"
      ],
      "execution_count": 0,
      "outputs": []
    },
    {
      "metadata": {
        "id": "aYis6F9gm1XC",
        "colab_type": "code",
        "colab": {}
      },
      "cell_type": "code",
      "source": [
        "from keras.layers import Activation\n",
        "model = Sequential()\n",
        "\n",
        " \n",
        "model.add(Convolution2D(32, 3, 3, activation='relu', input_shape=(28,28,1)))\n",
        "model.add(SeparableConv2D(filters=64, kernel_size=(3,3), activation='relu'))\n",
        "model.add(BatchNormalization())\n",
        "model.add(SeparableConv2D(filters=32, kernel_size=(3,3), activation='relu'))\n",
        "model.add(SeparableConv2D(filters=16, kernel_size=(3,3), activation='relu'))\n",
        "model.add(Convolution2D(10, 1, 1, activation='relu'))\n",
        "model.add(SeparableConv2D(filters=10, kernel_size=(10,10), activation='relu'))\n",
        "model.add(SeparableConv2D(filters=10, kernel_size=(11,11), activation='relu'))\n",
        "model.add(Flatten())\n",
        "model.add(Activation('softmax'))\n",
        "\n",
        "20 ep\n",
        "43s 721us/step - loss: 0.0265 - acc: 0.9911 - val_loss: 0.0479 - val_acc: 0.9877\n"
      ],
      "execution_count": 0,
      "outputs": []
    },
    {
      "metadata": {
        "id": "dgyEhutlxj_W",
        "colab_type": "code",
        "colab": {}
      },
      "cell_type": "code",
      "source": [
        "from keras.layers import Activation\n",
        "model = Sequential()\n",
        "\n",
        " \n",
        "model.add(Convolution2D(16, 3, 3, activation='relu', input_shape=(28,28,1)))\n",
        "model.add(SeparableConv2D(filters=32, kernel_size=(3,3), activation='relu'))\n",
        "model.add(SeparableConv2D(filters=64, kernel_size=(3,3), activation='relu'))\n",
        "model.add(SeparableConv2D(filters=32, kernel_size=(3,3), activation='relu'))\n",
        "model.add(Convolution2D(10, 1, 1, activation='relu'))\n",
        "model.add(SeparableConv2D(filters=10, kernel_size=(10,10), activation='relu'))\n",
        "model.add(SeparableConv2D(filters=10, kernel_size=(11,11), activation='relu'))\n",
        "model.add(Dropout(0.2))\n",
        "model.add(Flatten())\n",
        "model.add(Activation('softmax'))\n",
        "\n",
        "train loss high and test loss very low"
      ],
      "execution_count": 0,
      "outputs": []
    },
    {
      "metadata": {
        "id": "0fJMFnOvZd92",
        "colab_type": "code",
        "colab": {}
      },
      "cell_type": "code",
      "source": [
        "from keras.layers import Activation\n",
        "model = Sequential()\n",
        "\n",
        " \n",
        "model.add(Convolution2D(16, 3, 3, activation='relu', input_shape=(28,28,1)))\n",
        "model.add(SeparableConv2D(filters=32, kernel_size=(3,3), activation='relu'))\n",
        "model.add(SeparableConv2D(filters=64, kernel_size=(3,3), activation='relu'))\n",
        "model.add(SeparableConv2D(filters=128, kernel_size=(3,3), activation='relu'))\n",
        "model.add(Convolution2D(16, 1, 1, activation='relu'))\n",
        "model.add(SeparableConv2D(filters=16, kernel_size=(11,11), activation='relu'))\n",
        "model.add(SeparableConv2D(filters=10, kernel_size=(10,10), activation='relu'))\n",
        "model.add(Dropout(0.15))\n",
        "model.add(Flatten())\n",
        "model.add(Activation('softmax'))\n",
        "\n",
        "highest achieved\n",
        "6s 760us/step - loss: 0.3659 - acc: 0.8603 - val_loss: 0.0330 - val_acc: 0.9935\n",
        "        \n",
        "after 1024 15\n",
        "      32   34"
      ],
      "execution_count": 0,
      "outputs": []
    },
    {
      "metadata": {
        "id": "pnteuYLKqDS8",
        "colab_type": "code",
        "colab": {}
      },
      "cell_type": "code",
      "source": [
        "from keras.layers import Activation\n",
        "model = Sequential()\n",
        "\n",
        " \n",
        "model.add(Convolution2D(16, 3, 3, activation='relu', input_shape=(28,28,1)))\n",
        "model.add(SeparableConv2D(filters=32, kernel_size=(3,3), activation='relu'))\n",
        "model.add(SeparableConv2D(filters=64, kernel_size=(3,3), activation='relu'))\n",
        "model.add(SeparableConv2D(filters=128, kernel_size=(3,3), activation='relu'))\n",
        "model.add(Convolution2D(16, 1, 1, activation='relu'))\n",
        "model.add(SeparableConv2D(filters=16, kernel_size=(11,11), activation='relu'))\n",
        "model.add(Dropout(0.2))\n",
        "model.add(SeparableConv2D(filters=10, kernel_size=(10,10), activation='relu'))\n",
        "model.add(Flatten())\n",
        "model.add(Activation('softmax'))\n",
        "\n",
        "\n",
        "hit over 99.2 4 times in ep 20 tp 30\n",
        "\n",
        "with drouput .3 over 99.2 3 times in ep 25 to 30 "
      ],
      "execution_count": 0,
      "outputs": []
    },
    {
      "metadata": {
        "id": "AFXFWE5Okv28",
        "colab_type": "code",
        "colab": {}
      },
      "cell_type": "code",
      "source": [
        "from keras.layers import Activation\n",
        "model = Sequential()\n",
        "\n",
        " \n",
        "model.add(Convolution2D(16, 3, 3, activation='relu', input_shape=(28,28,1)))\n",
        "model.add(SeparableConv2D(filters=16, kernel_size=(3,3), activation='relu'))\n",
        "model.add(SeparableConv2D(filters=32, kernel_size=(3,3), activation='relu'))\n",
        "model.add(SeparableConv2D(filters=64, kernel_size=(3,3), activation='relu'))\n",
        "model.add(Convolution2D(32, 1, 1, activation='relu'))\n",
        "model.add(SeparableConv2D(filters=32, kernel_size=(11,11), activation='relu'))\n",
        "model.add(Dropout(0.1))\n",
        "model.add(SeparableConv2D(filters=10, kernel_size=(10,10), activation='relu'))\n",
        "model.add(Dropout(.05))\n",
        "model.add(Flatten())\n",
        "model.add(Activation('softmax'))\n",
        "\n",
        "80 and 256 batch 99.2 in under 20 ep\n"
      ],
      "execution_count": 0,
      "outputs": []
    },
    {
      "metadata": {
        "id": "hJ91eo8khj5Z",
        "colab_type": "text"
      },
      "cell_type": "markdown",
      "source": [
        ""
      ]
    }
  ]
}